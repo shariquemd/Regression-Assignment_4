{
 "cells": [
  {
   "cell_type": "code",
   "execution_count": null,
   "id": "8da171b0-72a3-426f-a0d5-d889ef69ec8f",
   "metadata": {},
   "outputs": [],
   "source": [
    "Q1. What is Lasso Regression, and how does it differ from other regression techniques?\n",
    "\n",
    "Lasso Regression:\n",
    "\n",
    "Lasso Regression, or Least Absolute Shrinkage and Selection Operator, is a regularized linear regression technique.\n",
    "It adds a penalty term ( to the ordinary least squares (OLS) regression cost function, encouraging sparse (zero) coefficients.\n",
    "Differences:\n",
    "\n",
    "Lasso differs from OLS by penalizing the absolute values of coefficients, which can lead to exact zero coefficients, effectively performing feature selection.\n",
    "Unlike Ridge Regression, Lasso can be more aggressive in shrinking coefficients all the way to zero.\n",
    "Q2. What is the main advantage of using Lasso Regression in feature selection?\n",
    "\n",
    "The main advantage of Lasso Regression in feature selection is its ability to drive some coefficients to exactly zero.\n",
    "This results in a sparse model, effectively selecting a subset of the most important features and eliminating less relevant ones.\n",
    "Q3. How do you interpret the coefficients of a Lasso Regression model?\n",
    "\n",
    "The coefficients in Lasso Regression represent the change in the dependent variable for a one-unit change in the respective independent variable.\n",
    "A non-zero coefficient indicates the importance of the corresponding feature in the model.\n",
    "A zero coefficient suggests that the feature does not contribute to the prediction.\n",
    "Q4. What are the tuning parameters that can be adjusted in Lasso Regression, and how do they affect the model's performance?\n",
    "\n",
    "The main tuning parameter in Lasso Regression is λ, also known as the regularization parameter.\n",
    "As λ increases, the penalty on the absolute values of coefficients becomes stronger.\n",
    "Larger λ values result in more coefficients being driven to zero, leading to a sparser model with increased feature selection.\n",
    "Q5. Can Lasso Regression be used for non-linear regression problems? If yes, how?\n",
    "\n",
    "Lasso Regression, by itself, is a linear regression technique.\n",
    "For non-linear regression problems, transformations of features or polynomial features can be incorporated before applying Lasso Regression.\n",
    "Alternatively, kernelized versions of Lasso Regression can be used, such as Kernel Lasso, to handle non-linear relationships.\n",
    "Q6. What is the difference between Ridge Regression and Lasso Regression?\n",
    "The difference between ridge and lasso regression is that it tends to make coefficients to absolute zero as compared to Ridge which never sets the value of coefficient to absolute zero.\n",
    "\n",
    "Q7. Can Lasso Regression handle multicollinearity in the input features? If yes, how?\n",
    "\n",
    "Lasso Regression is effective in handling multicollinearity (high correlation between independent variables).\n",
    "It tends to select one feature from a group of highly correlated features and drives the coefficients of the others to zero.\n",
    "Lasso's ability to perform feature selection can be advantageous in dealing with multicollinearity.\n",
    "Q8. How do you choose the optimal value of the regularization parameter (lambda) in Lasso Regression?\n",
    "\n",
    "The optimal value of λ in Lasso Regression is typically chosen through techniques like cross-validation.\n",
    "A range of λ values is tested on subsets of the training data, and the one providing the best performance (e.g., minimizing mean squared error) is selected.\n",
    "Grid search or more advanced optimization techniques can be employed for automated tuning."
   ]
  }
 ],
 "metadata": {
  "kernelspec": {
   "display_name": "Python 3 (ipykernel)",
   "language": "python",
   "name": "python3"
  },
  "language_info": {
   "codemirror_mode": {
    "name": "ipython",
    "version": 3
   },
   "file_extension": ".py",
   "mimetype": "text/x-python",
   "name": "python",
   "nbconvert_exporter": "python",
   "pygments_lexer": "ipython3",
   "version": "3.10.8"
  }
 },
 "nbformat": 4,
 "nbformat_minor": 5
}
